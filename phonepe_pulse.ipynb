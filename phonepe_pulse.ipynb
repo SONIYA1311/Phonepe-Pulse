{
 "cells": [
  {
   "cell_type": "code",
   "execution_count": 7,
   "metadata": {},
   "outputs": [],
   "source": [
    "import json\n",
    "import os\n",
    "import pandas as pd\n",
    "from git.repo.base import Repo\n",
    "import mysql.connector as sql"
   ]
  },
  {
   "cell_type": "code",
   "execution_count": 8,
   "metadata": {},
   "outputs": [
    {
     "name": "stdout",
     "output_type": "stream",
     "text": [
      "                          State  Year  Quater          Transaction_Type  \\\n",
      "0     andaman-&-nicobar-islands  2018       1  Recharge & bill payments   \n",
      "1     andaman-&-nicobar-islands  2018       1     Peer-to-peer payments   \n",
      "2     andaman-&-nicobar-islands  2018       1         Merchant payments   \n",
      "3     andaman-&-nicobar-islands  2018       1        Financial Services   \n",
      "4     andaman-&-nicobar-islands  2018       1                    Others   \n",
      "...                         ...   ...     ...                       ...   \n",
      "3949                west-bengal  2023       2         Merchant payments   \n",
      "3950                west-bengal  2023       2     Peer-to-peer payments   \n",
      "3951                west-bengal  2023       2  Recharge & bill payments   \n",
      "3952                west-bengal  2023       2        Financial Services   \n",
      "3953                west-bengal  2023       2                    Others   \n",
      "\n",
      "      Transaction_Count  Transaction_Amount  \n",
      "0                  4200        1.845307e+06  \n",
      "1                  1871        1.213866e+07  \n",
      "2                   298        4.525072e+05  \n",
      "3                    33        1.060142e+04  \n",
      "4                   256        1.846899e+05  \n",
      "...                 ...                 ...  \n",
      "3949          245111000        1.767046e+11  \n",
      "3950          240347041        7.970548e+11  \n",
      "3951           58950434        3.478924e+10  \n",
      "3952             327537        3.174670e+08  \n",
      "3953             581674        4.489893e+08  \n",
      "\n",
      "[3954 rows x 6 columns]\n"
     ]
    }
   ],
   "source": [
    "#Aggregated Transaction \n",
    "path1 = \"C:/Users/Dell/Desktop/phonepe_pulse/pulse/data/aggregated/transaction/country/india/state/\"\n",
    "Aggregated_Transaction_State_List = os.listdir(path1)\n",
    "Column1 = {\"State\":[], \"Year\":[], \"Quater\":[], \"Transaction_Type\":[], \"Transaction_Count\":[], \"Transaction_Amount\":[]}\n",
    "for i in Aggregated_Transaction_State_List:\n",
    "    path_i = path1+ i + \"/\"\n",
    "    Agg_Year = os.listdir(path_i)\n",
    "    for j in Agg_Year:\n",
    "        path_j = path_i+ j + \"/\"\n",
    "        Agg_Year_List = os.listdir(path_j)\n",
    "        for k in Agg_Year_List:\n",
    "            path_k = path_j + k\n",
    "            Data1 = open(path_k,\"r\")\n",
    "            D1 = json.load(Data1)\n",
    "            for z in D1['data']['transactionData']:\n",
    "                Name = z['name']\n",
    "                Count = z['paymentInstruments'][0]['count']\n",
    "                Amount= z['paymentInstruments'][0]['amount']\n",
    "                Column1['Transaction_Type'].append(Name)\n",
    "                Column1['Transaction_Count'].append(Count)\n",
    "                Column1['Transaction_Amount'].append(Amount)\n",
    "                Column1['State'].append(i)\n",
    "                Column1['Year'].append(j)\n",
    "                Column1['Quater'].append(int(k.strip('.json')))\n",
    "Aggregated_Transaction = pd.DataFrame(Column1)   \n",
    "print(Aggregated_Transaction)          "
   ]
  },
  {
   "cell_type": "code",
   "execution_count": 12,
   "metadata": {},
   "outputs": [
    {
     "name": "stdout",
     "output_type": "stream",
     "text": [
      "                          State  Year  Quater Users_Brand  Users_Count  \\\n",
      "0     andaman-&-nicobar-islands  2018       1      Xiaomi         1665   \n",
      "1     andaman-&-nicobar-islands  2018       1     Samsung         1445   \n",
      "2     andaman-&-nicobar-islands  2018       1        Vivo          982   \n",
      "3     andaman-&-nicobar-islands  2018       1        Oppo          501   \n",
      "4     andaman-&-nicobar-islands  2018       1     OnePlus          332   \n",
      "...                         ...   ...     ...         ...          ...   \n",
      "6727                west-bengal  2022       1      Lenovo       330017   \n",
      "6728                west-bengal  2022       1     Infinix       284678   \n",
      "6729                west-bengal  2022       1        Asus       280347   \n",
      "6730                west-bengal  2022       1       Apple       277752   \n",
      "6731                west-bengal  2022       1      Others      2196334   \n",
      "\n",
      "      Users_Percentage  \n",
      "0             0.247033  \n",
      "1             0.214392  \n",
      "2             0.145697  \n",
      "3             0.074332  \n",
      "4             0.049258  \n",
      "...                ...  \n",
      "6727          0.015056  \n",
      "6728          0.012987  \n",
      "6729          0.012790  \n",
      "6730          0.012671  \n",
      "6731          0.100199  \n",
      "\n",
      "[6732 rows x 6 columns]\n"
     ]
    }
   ],
   "source": [
    "Path2 = \"C:/Users/Dell/Desktop/phonepe_pulse/pulse/data/aggregated/user/country/india/state/\"\n",
    "Aggregated_User_State_List = os.listdir(Path2)\n",
    "Column2 = {\"State\":[],\"Year\":[],\"Quater\":[],\"Users_Brand\":[],\"Users_Count\":[],\"Users_Percentage\":[]}\n",
    "for i in Aggregated_User_State_List:\n",
    "    path_i = Path2 + i + \"/\"\n",
    "    Agg_User_Year = os.listdir(path_i)\n",
    "    for j in Agg_User_Year:\n",
    "        path_j = path_i + j + \"/\"\n",
    "        Agg_User_Year_List = os.listdir(path_j)\n",
    "        for k in Agg_User_Year_List:\n",
    "            path_k = path_j + k\n",
    "            Data2 = open(path_k,\"r\")\n",
    "            D2 = json.load(Data2)\n",
    "            if D2['data']['usersByDevice'] is not None:\n",
    "                for z in D2['data']['usersByDevice']:\n",
    "                    Brand = z['brand']\n",
    "                    Count = z['count']\n",
    "                    Percentage = z['percentage']\n",
    "                    Column2['Users_Brand'].append(Brand)\n",
    "                    Column2['Users_Count'].append(Count)\n",
    "                    Column2['Users_Percentage'].append(Percentage)\n",
    "                    Column2['State'].append(i)\n",
    "                    Column2['Year'].append(j)\n",
    "                    Column2['Quater'].append(int(k.strip('.json')))\n",
    "Aggregated_User = pd.DataFrame(Column2)\n",
    "print(Aggregated_User)                   "
   ]
  },
  {
   "cell_type": "code",
   "execution_count": 16,
   "metadata": {},
   "outputs": [
    {
     "name": "stdout",
     "output_type": "stream",
     "text": [
      "                           State  Year  Quater  \\\n",
      "0      andaman-&-nicobar-islands  2018       1   \n",
      "1      andaman-&-nicobar-islands  2018       1   \n",
      "2      andaman-&-nicobar-islands  2018       1   \n",
      "3      andaman-&-nicobar-islands  2018       2   \n",
      "4      andaman-&-nicobar-islands  2018       2   \n",
      "...                          ...   ...     ...   \n",
      "16095                west-bengal  2023       2   \n",
      "16096                west-bengal  2023       2   \n",
      "16097                west-bengal  2023       2   \n",
      "16098                west-bengal  2023       2   \n",
      "16099                west-bengal  2023       2   \n",
      "\n",
      "                  HoverDataList_District  HoverDataList_Count  \\\n",
      "0      north and middle andaman district                  442   \n",
      "1                 south andaman district                 5688   \n",
      "2                      nicobars district                  528   \n",
      "3      north and middle andaman district                  825   \n",
      "4                 south andaman district                 9395   \n",
      "...                                  ...                  ...   \n",
      "16095                     nadia district             26194658   \n",
      "16096                   birbhum district             14912523   \n",
      "16097           purba medinipur district             30724502   \n",
      "16098                    maldah district             24677357   \n",
      "16099                 darjiling district             13049366   \n",
      "\n",
      "       HoverDataList_Amount  \n",
      "0              9.316631e+05  \n",
      "1              1.256025e+07  \n",
      "2              1.139849e+06  \n",
      "3              1.317863e+06  \n",
      "4              2.394824e+07  \n",
      "...                     ...  \n",
      "16095          5.410386e+10  \n",
      "16096          2.941312e+10  \n",
      "16097          6.595899e+10  \n",
      "16098          5.218621e+10  \n",
      "16099          2.372866e+10  \n",
      "\n",
      "[16100 rows x 6 columns]\n"
     ]
    }
   ],
   "source": [
    "Path3 = \"C:/Users/Dell/Desktop/phonepe_pulse/pulse/data/map/transaction/hover/country/india/state/\"\n",
    "Map_Transaction_State_List = os.listdir(Path3)\n",
    "Column3 = {\"State\":[],\"Year\":[],\"Quater\":[],\"HoverDataList_District\":[],\"HoverDataList_Count\":[],\"HoverDataList_Amount\":[]}\n",
    "for i in Map_Transaction_State_List:\n",
    "    path_i = Path3+ i + \"/\"\n",
    "    Map_Trans_Year = os.listdir(path_i)\n",
    "    for j in Map_Trans_Year:\n",
    "        path_j = path_i + j + \"/\"\n",
    "        Map_Trans_Year_List = os.listdir(path_j)\n",
    "        for k in Map_Trans_Year_List:\n",
    "            path_k = path_j + k\n",
    "            Data3 = open(path_k,'r')\n",
    "            D3 = json.load(Data3)\n",
    "            for z3 in D3['data']['hoverDataList']:\n",
    "                District = z3['name']\n",
    "                Count = z3['metric'][0]['count']\n",
    "                Amount = z3['metric'][0]['amount']\n",
    "                Column3['HoverDataList_District'].append(District)\n",
    "                Column3['HoverDataList_Count'].append(Count)\n",
    "                Column3['HoverDataList_Amount'].append(Amount)\n",
    "                Column3['State'].append(i)\n",
    "                Column3['Year'].append(j)\n",
    "                Column3['Quater'].append(int(k.strip('.json')))\n",
    "Map_Transaction = pd.DataFrame(Column3)\n",
    "print(Map_Transaction)           "
   ]
  },
  {
   "cell_type": "code",
   "execution_count": 5,
   "metadata": {},
   "outputs": [
    {
     "name": "stdout",
     "output_type": "stream",
     "text": [
      "{'code': 'SUCCESS',\n",
      " 'data': {'hoverDataList': [{'metric': [{'amount': 68370869540.0,\n",
      "                                         'count': 33239786,\n",
      "                                         'type': 'TOTAL'}],\n",
      "                             'name': 'south twenty four parganas district'},\n",
      "                            {'metric': [{'amount': 38238042557.0,\n",
      "                                         'count': 19202083,\n",
      "                                         'type': 'TOTAL'}],\n",
      "                             'name': 'purba bardhaman district'},\n",
      "                            {'metric': [{'amount': 30998034157.0,\n",
      "                                         'count': 15152358,\n",
      "                                         'type': 'TOTAL'}],\n",
      "                             'name': 'uttar dinajpur district'},\n",
      "                            {'metric': [{'amount': 1598525835.0,\n",
      "                                         'count': 830355,\n",
      "                                         'type': 'TOTAL'}],\n",
      "                             'name': 'kalimpong district'},\n",
      "                            {'metric': [{'amount': 82718719673.0,\n",
      "                                         'count': 35310718,\n",
      "                                         'type': 'TOTAL'}],\n",
      "                             'name': 'murshidabad district'},\n",
      "                            {'metric': [{'amount': 49071906041.0,\n",
      "                                         'count': 26646934,\n",
      "                                         'type': 'TOTAL'}],\n",
      "                             'name': 'paschim medinipur district'},\n",
      "                            {'metric': [{'amount': 10743780287.0,\n",
      "                                         'count': 5242715,\n",
      "                                         'type': 'TOTAL'}],\n",
      "                             'name': 'dakshin dinajpur district'},\n",
      "                            {'metric': [{'amount': 15244621609.0,\n",
      "                                         'count': 8628928,\n",
      "                                         'type': 'TOTAL'}],\n",
      "                             'name': 'jalpaiguri district'},\n",
      "                            {'metric': [{'amount': 14258121172.0,\n",
      "                                         'count': 11504072,\n",
      "                                         'type': 'TOTAL'}],\n",
      "                             'name': 'purulia district'},\n",
      "                            {'metric': [{'amount': 151571700376.0,\n",
      "                                         'count': 96628528,\n",
      "                                         'type': 'TOTAL'}],\n",
      "                             'name': 'north twenty four parganas district'},\n",
      "                            {'metric': [{'amount': 21054538356.0,\n",
      "                                         'count': 12236326,\n",
      "                                         'type': 'TOTAL'}],\n",
      "                             'name': 'bankura district'},\n",
      "                            {'metric': [{'amount': 5182564318.0,\n",
      "                                         'count': 3162650,\n",
      "                                         'type': 'TOTAL'}],\n",
      "                             'name': 'jhargram district'},\n",
      "                            {'metric': [{'amount': 53521241869.0,\n",
      "                                         'count': 27156689,\n",
      "                                         'type': 'TOTAL'}],\n",
      "                             'name': 'howrah district'},\n",
      "                            {'metric': [{'amount': 52098664362.0,\n",
      "                                         'count': 27753013,\n",
      "                                         'type': 'TOTAL'}],\n",
      "                             'name': 'hooghly district'},\n",
      "                            {'metric': [{'amount': 116559452847.0,\n",
      "                                         'count': 67649153,\n",
      "                                         'type': 'TOTAL'}],\n",
      "                             'name': 'kolkata district'},\n",
      "                            {'metric': [{'amount': 22602389896.0,\n",
      "                                         'count': 13234951,\n",
      "                                         'type': 'TOTAL'}],\n",
      "                             'name': 'koch bihar district'},\n",
      "                            {'metric': [{'amount': 11210432870.0,\n",
      "                                         'count': 6075500,\n",
      "                                         'type': 'TOTAL'}],\n",
      "                             'name': 'alipurduar district'},\n",
      "                            {'metric': [{'amount': 38880657302.0,\n",
      "                                         'count': 26104521,\n",
      "                                         'type': 'TOTAL'}],\n",
      "                             'name': 'paschim bardhaman district'},\n",
      "                            {'metric': [{'amount': 54103857184.0,\n",
      "                                         'count': 26194658,\n",
      "                                         'type': 'TOTAL'}],\n",
      "                             'name': 'nadia district'},\n",
      "                            {'metric': [{'amount': 29413124481.0,\n",
      "                                         'count': 14912523,\n",
      "                                         'type': 'TOTAL'}],\n",
      "                             'name': 'birbhum district'},\n",
      "                            {'metric': [{'amount': 65958992755.0,\n",
      "                                         'count': 30724502,\n",
      "                                         'type': 'TOTAL'}],\n",
      "                             'name': 'purba medinipur district'},\n",
      "                            {'metric': [{'amount': 52186214308.0,\n",
      "                                         'count': 24677357,\n",
      "                                         'type': 'TOTAL'}],\n",
      "                             'name': 'maldah district'},\n",
      "                            {'metric': [{'amount': 23728655177.0,\n",
      "                                         'count': 13049366,\n",
      "                                         'type': 'TOTAL'}],\n",
      "                             'name': 'darjiling district'}]},\n",
      " 'responseTimestamp': 1692619257779,\n",
      " 'success': True}\n"
     ]
    }
   ],
   "source": [
    "from pprint import pprint\n",
    "Data3 = open(path_k,'r')\n",
    "D3 = json.load(Data3)\n",
    "pprint(D3)\n",
    "            "
   ]
  },
  {
   "cell_type": "code",
   "execution_count": 19,
   "metadata": {},
   "outputs": [
    {
     "name": "stdout",
     "output_type": "stream",
     "text": [
      "                           State  Year  Quater  \\\n",
      "0      andaman-&-nicobar-islands  2018       1   \n",
      "1      andaman-&-nicobar-islands  2018       1   \n",
      "2      andaman-&-nicobar-islands  2018       1   \n",
      "3      andaman-&-nicobar-islands  2018       2   \n",
      "4      andaman-&-nicobar-islands  2018       2   \n",
      "...                          ...   ...     ...   \n",
      "16099                west-bengal  2023       2   \n",
      "16100                west-bengal  2023       2   \n",
      "16101                west-bengal  2023       2   \n",
      "16102                west-bengal  2023       2   \n",
      "16103                west-bengal  2023       2   \n",
      "\n",
      "                               Districts  RegisteredUsers  AppOpens  \n",
      "0      north and middle andaman district              632         0  \n",
      "1                 south andaman district             5846         0  \n",
      "2                      nicobars district              262         0  \n",
      "3      north and middle andaman district              911         0  \n",
      "4                 south andaman district             8143         0  \n",
      "...                                  ...              ...       ...  \n",
      "16099                     nadia district          1482400   9509833  \n",
      "16100                   birbhum district           934943  12789154  \n",
      "16101           purba medinipur district          1468608  12096564  \n",
      "16102                    maldah district          1046132  17662446  \n",
      "16103                 darjiling district           613398  15141713  \n",
      "\n",
      "[16104 rows x 6 columns]\n"
     ]
    }
   ],
   "source": [
    "Path4 = \"C:/Users/Dell/Desktop/phonepe_pulse/pulse/data/map/user/hover/country/india/state/\"\n",
    "Map_User_State_List = os.listdir(Path4)\n",
    "Column4={\"State\":[],\"Year\":[],\"Quater\":[],\"Districts\":[],\"RegisteredUsers\":[],\"AppOpens\":[]}\n",
    "for i in Map_User_State_List:\n",
    "    path_i = Path4+i+\"/\"\n",
    "    Map_User_Year = os.listdir(path_i)\n",
    "    for j in Map_User_Year:\n",
    "        path_j = path_i+j+\"/\"\n",
    "        Map_User_Year_List = os.listdir(path_j)\n",
    "        for k in Map_User_Year_List:\n",
    "            path_k = path_j +k\n",
    "            Data4 = open(path_k,\"r\")\n",
    "            D4 = json.load(Data4)\n",
    "            for z in D4['data']['hoverData']:\n",
    "                Column4['Districts'].append(z)\n",
    "                Column4['RegisteredUsers'].append(D4['data']['hoverData'][z]['registeredUsers'])\n",
    "                Column4['AppOpens'].append(D4['data']['hoverData'][z]['appOpens'])\n",
    "                Column4['State'].append(i)\n",
    "                Column4['Year'].append(j)\n",
    "                Column4['Quater'].append(int(k.strip('.json')))\n",
    "Map_User = pd.DataFrame(Column4)\n",
    "print(Map_User)                "
   ]
  },
  {
   "cell_type": "code",
   "execution_count": 20,
   "metadata": {},
   "outputs": [
    {
     "name": "stdout",
     "output_type": "stream",
     "text": [
      "                          State  Year  Quater                  District  \\\n",
      "0     andaman-&-nicobar-islands  2018       1             south andaman   \n",
      "1     andaman-&-nicobar-islands  2018       1                  nicobars   \n",
      "2     andaman-&-nicobar-islands  2018       1  north and middle andaman   \n",
      "3     andaman-&-nicobar-islands  2018       2             south andaman   \n",
      "4     andaman-&-nicobar-islands  2018       2                  nicobars   \n",
      "...                         ...   ...     ...                       ...   \n",
      "6507                west-bengal  2023       2                   hooghly   \n",
      "6508                west-bengal  2023       2                    howrah   \n",
      "6509                west-bengal  2023       2         paschim medinipur   \n",
      "6510                west-bengal  2023       2                     nadia   \n",
      "6511                west-bengal  2023       2         paschim bardhaman   \n",
      "\n",
      "            Amount     Count  \n",
      "0     1.256025e+07      5688  \n",
      "1     1.139849e+06       528  \n",
      "2     9.316631e+05       442  \n",
      "3     2.394824e+07      9395  \n",
      "4     3.072437e+06      1120  \n",
      "...            ...       ...  \n",
      "6507  5.209866e+10  27753013  \n",
      "6508  5.352124e+10  27156689  \n",
      "6509  4.907191e+10  26646934  \n",
      "6510  5.410386e+10  26194658  \n",
      "6511  3.888066e+10  26104521  \n",
      "\n",
      "[6512 rows x 6 columns]\n"
     ]
    }
   ],
   "source": [
    "Path5 = \"C:/Users\\Dell/Desktop/phonepe_pulse/pulse/data/top/transaction/country/india/state/\"\n",
    "Top_Transaction_State_List = os.listdir(Path5)\n",
    "Column5 ={\"State\":[],\"Year\":[],\"Quater\":[],\"District\":[],\"Amount\":[],\"Count\":[]}\n",
    "Column6 ={\"State\":[],\"Year\":[],\"Quater\":[],\"Pincode\":[],\"Amount\":[],\"Count\":[]}\n",
    "for i in Top_Transaction_State_List:\n",
    "    path_i = Path5+i+\"/\"\n",
    "    Top_Trans_Year = os.listdir(path_i)\n",
    "    for j in Top_Trans_Year:\n",
    "        path_j = path_i+j+\"/\"\n",
    "        Top_Trans_Year_List = os.listdir(path_j)\n",
    "        for k in Top_Trans_Year_List:\n",
    "            path_k = path_j+k\n",
    "            Data5 = open(path_k,\"r\")\n",
    "            D5 = json.load(Data5)\n",
    "            for z in D5['data']['districts']:\n",
    "                District = z['entityName']\n",
    "                Amount = z['metric']['amount']\n",
    "                Count = z['metric']['count']\n",
    "                Column5['District'].append(District)\n",
    "                Column5['Amount'].append(Amount)\n",
    "                Column5['Count'].append(Count)\n",
    "                Column5['State'].append(i)\n",
    "                Column5['Year'].append(j)\n",
    "                Column5['Quater'].append(int(k.strip('.json')))\n",
    "            for z in D5['data']['pincodes']:\n",
    "                Pincode = z['entityName']\n",
    "                Amount = z['metric']['amount']\n",
    "                Count = z['metric']['count']\n",
    "                Column6['Pincode'].append(Pincode)\n",
    "                Column6['Amount'].append(Amount)\n",
    "                Column6['Count'].append(Count)\n",
    "                Column6['State'].append(i)\n",
    "                Column6['Year'].append(j)\n",
    "                Column6['Quater'].append(int(k.strip('.json')))\n",
    "Top_Transaction1 = pd.DataFrame(Column5)\n",
    "Top_Transaction2 = pd.DataFrame(Column6)     \n",
    "print(Top_Transaction1)"
   ]
  },
  {
   "cell_type": "code",
   "execution_count": 8,
   "metadata": {},
   "outputs": [
    {
     "name": "stdout",
     "output_type": "stream",
     "text": [
      "                          State  Year  Quater Pincode        Amount    Count\n",
      "0     andaman-&-nicobar-islands  2018       1  744101  2.769298e+06     1622\n",
      "1     andaman-&-nicobar-islands  2018       1  744103  2.238042e+06     1223\n",
      "2     andaman-&-nicobar-islands  2018       1  744102  3.519060e+06      969\n",
      "3     andaman-&-nicobar-islands  2018       1  744105  1.298561e+06      685\n",
      "4     andaman-&-nicobar-islands  2018       1  744104  1.039715e+06      340\n",
      "...                         ...   ...     ...     ...           ...      ...\n",
      "7848                west-bengal  2023       2  700001  6.259877e+09  2918444\n",
      "7849                west-bengal  2023       2  721301  4.458107e+09  2910870\n",
      "7850                west-bengal  2023       2  700039  4.662887e+09  2886562\n",
      "7851                west-bengal  2023       2  700015  4.372975e+09  2774383\n",
      "7852                west-bengal  2023       2  700014  5.108638e+09  2757479\n",
      "\n",
      "[7853 rows x 6 columns]\n"
     ]
    }
   ],
   "source": [
    "print(Top_Transaction2)"
   ]
  },
  {
   "cell_type": "code",
   "execution_count": 21,
   "metadata": {},
   "outputs": [
    {
     "name": "stdout",
     "output_type": "stream",
     "text": [
      "                          State  Year  Quater                  District  \\\n",
      "0     andaman-&-nicobar-islands  2018       1             south andaman   \n",
      "1     andaman-&-nicobar-islands  2018       1  north and middle andaman   \n",
      "2     andaman-&-nicobar-islands  2018       1                  nicobars   \n",
      "3     andaman-&-nicobar-islands  2018       2             south andaman   \n",
      "4     andaman-&-nicobar-islands  2018       2  north and middle andaman   \n",
      "...                         ...   ...     ...                       ...   \n",
      "6507                west-bengal  2023       2                    howrah   \n",
      "6508                west-bengal  2023       2                     nadia   \n",
      "6509                west-bengal  2023       2           purba medinipur   \n",
      "6510                west-bengal  2023       2         paschim medinipur   \n",
      "6511                west-bengal  2023       2           purba bardhaman   \n",
      "\n",
      "      RegisteredUsers  \n",
      "0                5846  \n",
      "1                 632  \n",
      "2                 262  \n",
      "3                8143  \n",
      "4                 911  \n",
      "...               ...  \n",
      "6507          1546777  \n",
      "6508          1482400  \n",
      "6509          1468608  \n",
      "6510          1328693  \n",
      "6511          1221383  \n",
      "\n",
      "[6512 rows x 5 columns]\n"
     ]
    }
   ],
   "source": [
    "Path6 =\"C:/Users/Dell/Desktop/phonepe_pulse/pulse/data/top/user/country/india/state/\"\n",
    "Top_User_State_List = os.listdir(Path6)\n",
    "Column7 ={\"State\":[],\"Year\":[],\"Quater\":[],\"District\":[],\"RegisteredUsers\":[]}\n",
    "Column8 ={\"State\":[],\"Year\":[],\"Quater\":[],\"Pincode\":[],\"RegisteredUsers\":[]}\n",
    "for i in Top_User_State_List:\n",
    "    path_i = Path6+i+\"/\"\n",
    "    Top_User_Year = os.listdir(path_i)\n",
    "    for j in Top_User_Year:\n",
    "        path_j = path_i+j+\"/\"\n",
    "        Top_User_Year_List = os.listdir(path_j)\n",
    "        for k in Top_User_Year_List:\n",
    "            path_k = path_j+k\n",
    "            Data6 = open(path_k,\"r\")\n",
    "            D6 = json.load(Data6)\n",
    "            for z in D6['data']['districts']:\n",
    "                District = z['name']\n",
    "                RegisteredUsers = z['registeredUsers']\n",
    "                Column7['District'].append(District)\n",
    "                Column7['RegisteredUsers'].append(RegisteredUsers)\n",
    "                Column7['State'].append(i)\n",
    "                Column7['Year'].append(j)\n",
    "                Column7['Quater'].append(int(k.strip('.json')))\n",
    "            for z in D6['data']['pincodes']:\n",
    "                Pincode = z['name']\n",
    "                RegisteredUsers = z['registeredUsers']\n",
    "                Column8['Pincode'].append(Pincode)\n",
    "                Column8['RegisteredUsers'].append(RegisteredUsers)\n",
    "                Column8['State'].append(i)\n",
    "                Column8['Year'].append(j)\n",
    "                Column8['Quater'].append(int(k.strip('.json')))\n",
    "Top_User1 = pd.DataFrame(Column7)\n",
    "Top_User2 = pd.DataFrame(Column8)\n",
    "print(Top_User1)                \n",
    "\n"
   ]
  },
  {
   "cell_type": "code",
   "execution_count": 10,
   "metadata": {},
   "outputs": [
    {
     "name": "stdout",
     "output_type": "stream",
     "text": [
      "                          State  Year  Quater Pincode  RegisteredUsers\n",
      "0     andaman-&-nicobar-islands  2018       1  744103             1608\n",
      "1     andaman-&-nicobar-islands  2018       1  744101             1108\n",
      "2     andaman-&-nicobar-islands  2018       1  744105             1075\n",
      "3     andaman-&-nicobar-islands  2018       1  744102             1006\n",
      "4     andaman-&-nicobar-islands  2018       1  744104              272\n",
      "...                         ...   ...     ...     ...              ...\n",
      "7849                west-bengal  2023       2  700015           117690\n",
      "7850                west-bengal  2023       2  742304           114746\n",
      "7851                west-bengal  2023       2  721101           114293\n",
      "7852                west-bengal  2023       2  700150           110694\n",
      "7853                west-bengal  2023       2  700091           110637\n",
      "\n",
      "[7854 rows x 5 columns]\n"
     ]
    }
   ],
   "source": [
    "print(Top_User2)"
   ]
  },
  {
   "cell_type": "code",
   "execution_count": 1,
   "metadata": {},
   "outputs": [],
   "source": [
    "import mysql.connector as sql\n",
    "connection = sql.connect(host = 'localhost',\n",
    "user = 'root',\n",
    "password = 'Bonda@1311')"
   ]
  },
  {
   "cell_type": "code",
   "execution_count": 2,
   "metadata": {},
   "outputs": [],
   "source": [
    "cursor = connection.cursor()"
   ]
  },
  {
   "cell_type": "code",
   "execution_count": 3,
   "metadata": {},
   "outputs": [],
   "source": [
    "cursor.execute(\"CREATE DATABASE IF NOT EXISTS phonepe_pulse\")"
   ]
  },
  {
   "cell_type": "code",
   "execution_count": 4,
   "metadata": {},
   "outputs": [],
   "source": [
    "cursor.execute(\"USE phonepe_pulse\")\n"
   ]
  },
  {
   "cell_type": "code",
   "execution_count": 5,
   "metadata": {},
   "outputs": [],
   "source": [
    "cursor.execute(\"CREATE TABLE IF NOT EXISTS aggregated_transaction (State VARCHAR(50), Year INT, Quater INT, Transaction_Type VARCHAR(100), Transaction_Count INT,Transaction_Amount FLOAT)\")\n"
   ]
  },
  {
   "cell_type": "code",
   "execution_count": 10,
   "metadata": {},
   "outputs": [],
   "source": [
    "cursor.execute(\"CREATE TABLE IF NOT EXISTS aggregated_user (State VARCHAR(50), Year INT, Quater INT, Users_Brand VARCHAR(100), Users_Count INT,Users_Percentage FLOAT)\")\n"
   ]
  },
  {
   "cell_type": "code",
   "execution_count": 14,
   "metadata": {},
   "outputs": [],
   "source": [
    "cursor.execute(\"CREATE TABLE IF NOT EXISTS map_transaction (State VARCHAR(50), Year INT, Quater INT, HoverDataList_District VARCHAR(100), HoverDataList_Count INT,HoverDataList_Amount FLOAT)\")\n"
   ]
  },
  {
   "cell_type": "code",
   "execution_count": 18,
   "metadata": {},
   "outputs": [],
   "source": [
    "cursor.execute(\"CREATE TABLE IF NOT EXISTS map_user (State VARCHAR(50), Year INT, Quater INT, Districts VARCHAR(100), RegisteredUsers INT, AppOpens INT)\")\n"
   ]
  },
  {
   "cell_type": "code",
   "execution_count": 23,
   "metadata": {},
   "outputs": [],
   "source": [
    "cursor.execute(\"CREATE TABLE IF NOT EXISTS top_transaction_1 (State VARCHAR(50), Year INT, Quater INT, District VARCHAR(100), Amount FLOAT,Count INT)\")\n"
   ]
  },
  {
   "cell_type": "code",
   "execution_count": 26,
   "metadata": {},
   "outputs": [],
   "source": [
    "cursor.execute(\"CREATE TABLE IF NOT EXISTS top_transaction_2 (State VARCHAR(100), Year INT, Quater INT,  Pincode INT, Amount FLOAT, Count INT)\")"
   ]
  },
  {
   "cell_type": "code",
   "execution_count": 28,
   "metadata": {},
   "outputs": [],
   "source": [
    "cursor.execute(\"CREATE TABLE IF NOT EXISTS top_user_1 (State VARCHAR(50), Year INT, Quater INT, District VARCHAR(100), RegisteredUsers INT)\")\n"
   ]
  },
  {
   "cell_type": "code",
   "execution_count": 29,
   "metadata": {},
   "outputs": [],
   "source": [
    "cursor.execute(\"CREATE TABLE IF NOT EXISTS top_user_2 (State VARCHAR(50), Year INT, Quater INT, Pincode INT, RegisteredUsers INT)\")\n"
   ]
  },
  {
   "cell_type": "code",
   "execution_count": 9,
   "metadata": {},
   "outputs": [],
   "source": [
    "for index, row in Aggregated_Transaction.iterrows():\n",
    "    query = \"INSERT INTO aggregated_transaction (State, Year, Quater, Transaction_Type, Transaction_Count, Transaction_Amount) VALUES (%s, %s, %s, %s, %s, %s)\"\n",
    "    values = (row['State'], row['Year'], row['Quater'], row['Transaction_Type'], row['Transaction_Count'], row['Transaction_Amount'])\n",
    "    cursor.execute(query, values)\n"
   ]
  },
  {
   "cell_type": "code",
   "execution_count": 13,
   "metadata": {},
   "outputs": [],
   "source": [
    "for index, row in Aggregated_User.iterrows():\n",
    "    query = \"INSERT INTO aggregated_user (State, Year, Quater, Users_Brand, Users_Count, Users_Percentage) VALUES (%s, %s, %s, %s, %s, %s)\"\n",
    "    values = (row['State'], row['Year'], row['Quater'], row['Users_Brand'], row['Users_Count'], row['Users_Percentage'])\n",
    "    cursor.execute(query, values)\n"
   ]
  },
  {
   "cell_type": "code",
   "execution_count": 17,
   "metadata": {},
   "outputs": [],
   "source": [
    "for index, row in Map_Transaction.iterrows():\n",
    "    query = \"INSERT INTO map_transaction (State, Year, Quater, HoverDataList_District, HoverDataList_Count, HoverDataList_Amount) VALUES (%s, %s, %s, %s, %s, %s)\"\n",
    "    values = (row['State'], row['Year'], row['Quater'], row['HoverDataList_District'], row['HoverDataList_Count'], row['HoverDataList_Amount'])\n",
    "    cursor.execute(query, values)\n"
   ]
  },
  {
   "cell_type": "code",
   "execution_count": 22,
   "metadata": {},
   "outputs": [],
   "source": [
    "for index, row in Map_User.iterrows():\n",
    "    query = \"INSERT INTO map_user (State, Year, Quater, Districts, RegisteredUsers, AppOpens) VALUES (%s, %s, %s, %s, %s, %s)\"\n",
    "    values = (row['State'], row['Year'], row['Quater'], row['Districts'], row['RegisteredUsers'], row['AppOpens'])\n",
    "    cursor.execute(query, values)\n"
   ]
  },
  {
   "cell_type": "code",
   "execution_count": 25,
   "metadata": {},
   "outputs": [],
   "source": [
    "for index, row in Top_Transaction1.iterrows():\n",
    "    query = \"INSERT INTO top_transaction_1 (State, Year, Quater, District, Amount, Count) VALUES (%s, %s, %s, %s, %s, %s)\"\n",
    "    values = (row['State'], row['Year'], row['Quater'], row['District'], row['Amount'], row['Count'])\n",
    "    cursor.execute(query, values)"
   ]
  },
  {
   "cell_type": "code",
   "execution_count": 27,
   "metadata": {},
   "outputs": [],
   "source": [
    "for index, row in Top_Transaction2.iterrows():\n",
    "    query = \"INSERT INTO top_transaction_2 (State, Year, Quater, Pincode, Amount, Count) VALUES (%s, %s, %s, %s, %s, %s)\"\n",
    "    values = (row['State'], row['Year'], row['Quater'], row['Pincode'], row['Amount'], row['Count'])\n",
    "    cursor.execute(query, values)"
   ]
  },
  {
   "cell_type": "code",
   "execution_count": 30,
   "metadata": {},
   "outputs": [],
   "source": [
    "for index, row in Top_User1.iterrows():\n",
    "    query = \"INSERT INTO top_user_1 (State, Year, Quater, District, RegisteredUsers) VALUES (%s, %s, %s, %s, %s)\"\n",
    "    values = (row['State'], row['Year'], row['Quater'], row['District'], row['RegisteredUsers'])\n",
    "    cursor.execute(query, values)"
   ]
  },
  {
   "cell_type": "code",
   "execution_count": 31,
   "metadata": {},
   "outputs": [],
   "source": [
    "for index, row in Top_User2.iterrows():\n",
    "    query = \"INSERT INTO top_user_2 (State, Year, Quater, Pincode, RegisteredUsers) VALUES (%s, %s, %s, %s, %s)\"\n",
    "    values = (row['State'], row['Year'], row['Quater'], row['Pincode'], row['RegisteredUsers'])\n",
    "    cursor.execute(query, values)"
   ]
  },
  {
   "cell_type": "code",
   "execution_count": 32,
   "metadata": {},
   "outputs": [],
   "source": [
    "connection.commit()"
   ]
  },
  {
   "cell_type": "code",
   "execution_count": 33,
   "metadata": {},
   "outputs": [],
   "source": [
    "cursor.close()\n",
    "connection.close()"
   ]
  }
 ],
 "metadata": {
  "kernelspec": {
   "display_name": ".venv",
   "language": "python",
   "name": "python3"
  },
  "language_info": {
   "codemirror_mode": {
    "name": "ipython",
    "version": 3
   },
   "file_extension": ".py",
   "mimetype": "text/x-python",
   "name": "python",
   "nbconvert_exporter": "python",
   "pygments_lexer": "ipython3",
   "version": "3.11.4"
  },
  "orig_nbformat": 4
 },
 "nbformat": 4,
 "nbformat_minor": 2
}
